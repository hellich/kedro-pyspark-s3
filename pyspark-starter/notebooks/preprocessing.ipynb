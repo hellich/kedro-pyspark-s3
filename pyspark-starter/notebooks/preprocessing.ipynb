{
 "cells": [
  {
   "cell_type": "code",
   "execution_count": 1,
   "id": "690f70ea-a811-4aab-89d1-94e3552f51b5",
   "metadata": {},
   "outputs": [
    {
     "name": "stdout",
     "output_type": "stream",
     "text": [
      "Requirement already satisfied: kedro-datasets~=1.0 in c:\\code\\micromambaenv\\envs\\venv39\\lib\\site-packages (from kedro-datasets[spark.SparkDataset]~=1.0) (1.8.0)\n",
      "Requirement already satisfied: kedro>=0.16 in c:\\code\\micromambaenv\\envs\\venv39\\lib\\site-packages (from kedro-datasets~=1.0->kedro-datasets[spark.SparkDataset]~=1.0) (0.18.14)\n",
      "Requirement already satisfied: lazy-loader in c:\\code\\micromambaenv\\envs\\venv39\\lib\\site-packages (from kedro-datasets~=1.0->kedro-datasets[spark.SparkDataset]~=1.0) (0.4)\n",
      "Requirement already satisfied: pyspark<4.0,>=2.2 in c:\\code\\micromambaenv\\envs\\venv39\\lib\\site-packages (from kedro-datasets[spark.SparkDataset]~=1.0) (3.5.3)\n",
      "Requirement already satisfied: hdfs<3.0,>=2.5.8 in c:\\code\\micromambaenv\\envs\\venv39\\lib\\site-packages (from kedro-datasets[spark.SparkDataset]~=1.0) (2.7.3)\n",
      "Requirement already satisfied: s3fs<0.5,>=0.3.0 in c:\\code\\micromambaenv\\envs\\venv39\\lib\\site-packages (from kedro-datasets[spark.SparkDataset]~=1.0) (0.4.2)\n",
      "Requirement already satisfied: docopt in c:\\code\\micromambaenv\\envs\\venv39\\lib\\site-packages (from hdfs<3.0,>=2.5.8->kedro-datasets[spark.SparkDataset]~=1.0) (0.6.2)\n",
      "Requirement already satisfied: requests>=2.7.0 in c:\\code\\micromambaenv\\envs\\venv39\\lib\\site-packages (from hdfs<3.0,>=2.5.8->kedro-datasets[spark.SparkDataset]~=1.0) (2.32.3)\n",
      "Requirement already satisfied: six>=1.9.0 in c:\\code\\micromambaenv\\envs\\venv39\\lib\\site-packages (from hdfs<3.0,>=2.5.8->kedro-datasets[spark.SparkDataset]~=1.0) (1.16.0)\n",
      "Requirement already satisfied: anyconfig>=0.10.0 in c:\\code\\micromambaenv\\envs\\venv39\\lib\\site-packages (from kedro>=0.16->kedro-datasets~=1.0->kedro-datasets[spark.SparkDataset]~=1.0) (0.14.0)\n",
      "Requirement already satisfied: attrs>=21.3 in c:\\code\\micromambaenv\\envs\\venv39\\lib\\site-packages (from kedro>=0.16->kedro-datasets~=1.0->kedro-datasets[spark.SparkDataset]~=1.0) (24.2.0)\n",
      "Requirement already satisfied: build>=0.7.0 in c:\\code\\micromambaenv\\envs\\venv39\\lib\\site-packages (from kedro>=0.16->kedro-datasets~=1.0->kedro-datasets[spark.SparkDataset]~=1.0) (1.2.2.post1)\n",
      "Requirement already satisfied: cachetools>=4.1 in c:\\code\\micromambaenv\\envs\\venv39\\lib\\site-packages (from kedro>=0.16->kedro-datasets~=1.0->kedro-datasets[spark.SparkDataset]~=1.0) (5.5.0)\n",
      "Requirement already satisfied: click>=4.0 in c:\\code\\micromambaenv\\envs\\venv39\\lib\\site-packages (from kedro>=0.16->kedro-datasets~=1.0->kedro-datasets[spark.SparkDataset]~=1.0) (8.1.7)\n",
      "Requirement already satisfied: cookiecutter<3.0,>=2.1.1 in c:\\code\\micromambaenv\\envs\\venv39\\lib\\site-packages (from kedro>=0.16->kedro-datasets~=1.0->kedro-datasets[spark.SparkDataset]~=1.0) (2.6.0)\n",
      "Requirement already satisfied: dynaconf<4.0,>=3.1.2 in c:\\code\\micromambaenv\\envs\\venv39\\lib\\site-packages (from kedro>=0.16->kedro-datasets~=1.0->kedro-datasets[spark.SparkDataset]~=1.0) (3.2.6)\n",
      "Requirement already satisfied: fsspec>=2021.4 in c:\\code\\micromambaenv\\envs\\venv39\\lib\\site-packages (from kedro>=0.16->kedro-datasets~=1.0->kedro-datasets[spark.SparkDataset]~=1.0) (2024.10.0)\n",
      "Requirement already satisfied: gitpython>=3.0 in c:\\code\\micromambaenv\\envs\\venv39\\lib\\site-packages (from kedro>=0.16->kedro-datasets~=1.0->kedro-datasets[spark.SparkDataset]~=1.0) (3.1.43)\n",
      "Requirement already satisfied: importlib-resources<7.0,>=1.3 in c:\\code\\micromambaenv\\envs\\venv39\\lib\\site-packages (from kedro>=0.16->kedro-datasets~=1.0->kedro-datasets[spark.SparkDataset]~=1.0) (6.4.5)\n",
      "Requirement already satisfied: jmespath>=0.9.5 in c:\\code\\micromambaenv\\envs\\venv39\\lib\\site-packages (from kedro>=0.16->kedro-datasets~=1.0->kedro-datasets[spark.SparkDataset]~=1.0) (1.0.1)\n",
      "Requirement already satisfied: more-itertools>=8.14.0 in c:\\code\\micromambaenv\\envs\\venv39\\lib\\site-packages (from kedro>=0.16->kedro-datasets~=1.0->kedro-datasets[spark.SparkDataset]~=1.0) (10.5.0)\n",
      "Requirement already satisfied: omegaconf>=2.1.1 in c:\\code\\micromambaenv\\envs\\venv39\\lib\\site-packages (from kedro>=0.16->kedro-datasets~=1.0->kedro-datasets[spark.SparkDataset]~=1.0) (2.3.0)\n",
      "Requirement already satisfied: parse>=1.19.0 in c:\\code\\micromambaenv\\envs\\venv39\\lib\\site-packages (from kedro>=0.16->kedro-datasets~=1.0->kedro-datasets[spark.SparkDataset]~=1.0) (1.20.2)\n",
      "Requirement already satisfied: pip-tools>=6.5 in c:\\code\\micromambaenv\\envs\\venv39\\lib\\site-packages (from kedro>=0.16->kedro-datasets~=1.0->kedro-datasets[spark.SparkDataset]~=1.0) (7.4.1)\n",
      "Requirement already satisfied: pluggy<1.3,>=1.0 in c:\\code\\micromambaenv\\envs\\venv39\\lib\\site-packages (from kedro>=0.16->kedro-datasets~=1.0->kedro-datasets[spark.SparkDataset]~=1.0) (1.2.0)\n",
      "Requirement already satisfied: PyYAML<7.0,>=4.2 in c:\\code\\micromambaenv\\envs\\venv39\\lib\\site-packages (from kedro>=0.16->kedro-datasets~=1.0->kedro-datasets[spark.SparkDataset]~=1.0) (6.0.2)\n",
      "Requirement already satisfied: rich<14.0,>=12.0 in c:\\code\\micromambaenv\\envs\\venv39\\lib\\site-packages (from kedro>=0.16->kedro-datasets~=1.0->kedro-datasets[spark.SparkDataset]~=1.0) (13.9.4)\n",
      "Requirement already satisfied: rope<2.0,>=0.21 in c:\\code\\micromambaenv\\envs\\venv39\\lib\\site-packages (from kedro>=0.16->kedro-datasets~=1.0->kedro-datasets[spark.SparkDataset]~=1.0) (1.13.0)\n",
      "Requirement already satisfied: setuptools>=65.5.1 in c:\\code\\micromambaenv\\envs\\venv39\\lib\\site-packages (from kedro>=0.16->kedro-datasets~=1.0->kedro-datasets[spark.SparkDataset]~=1.0) (75.6.0)\n",
      "Requirement already satisfied: toml>=0.10.0 in c:\\code\\micromambaenv\\envs\\venv39\\lib\\site-packages (from kedro>=0.16->kedro-datasets~=1.0->kedro-datasets[spark.SparkDataset]~=1.0) (0.10.2)\n",
      "Requirement already satisfied: toposort>=1.5 in c:\\code\\micromambaenv\\envs\\venv39\\lib\\site-packages (from kedro>=0.16->kedro-datasets~=1.0->kedro-datasets[spark.SparkDataset]~=1.0) (1.10)\n",
      "Requirement already satisfied: importlib-metadata<7.0,>=3.6 in c:\\code\\micromambaenv\\envs\\venv39\\lib\\site-packages (from kedro>=0.16->kedro-datasets~=1.0->kedro-datasets[spark.SparkDataset]~=1.0) (6.11.0)\n",
      "Requirement already satisfied: py4j==0.10.9.7 in c:\\code\\micromambaenv\\envs\\venv39\\lib\\site-packages (from pyspark<4.0,>=2.2->kedro-datasets[spark.SparkDataset]~=1.0) (0.10.9.7)\n",
      "Requirement already satisfied: botocore>=1.12.91 in c:\\code\\micromambaenv\\envs\\venv39\\lib\\site-packages (from s3fs<0.5,>=0.3.0->kedro-datasets[spark.SparkDataset]~=1.0) (1.35.70)\n",
      "Requirement already satisfied: packaging in c:\\code\\micromambaenv\\envs\\venv39\\lib\\site-packages (from lazy-loader->kedro-datasets~=1.0->kedro-datasets[spark.SparkDataset]~=1.0) (24.2)\n",
      "Requirement already satisfied: python-dateutil<3.0.0,>=2.1 in c:\\code\\micromambaenv\\envs\\venv39\\lib\\site-packages (from botocore>=1.12.91->s3fs<0.5,>=0.3.0->kedro-datasets[spark.SparkDataset]~=1.0) (2.9.0.post0)\n",
      "Requirement already satisfied: urllib3<1.27,>=1.25.4 in c:\\code\\micromambaenv\\envs\\venv39\\lib\\site-packages (from botocore>=1.12.91->s3fs<0.5,>=0.3.0->kedro-datasets[spark.SparkDataset]~=1.0) (1.26.20)\n",
      "Requirement already satisfied: pyproject_hooks in c:\\code\\micromambaenv\\envs\\venv39\\lib\\site-packages (from build>=0.7.0->kedro>=0.16->kedro-datasets~=1.0->kedro-datasets[spark.SparkDataset]~=1.0) (1.2.0)\n",
      "Requirement already satisfied: colorama in c:\\code\\micromambaenv\\envs\\venv39\\lib\\site-packages (from build>=0.7.0->kedro>=0.16->kedro-datasets~=1.0->kedro-datasets[spark.SparkDataset]~=1.0) (0.4.6)\n",
      "Requirement already satisfied: tomli>=1.1.0 in c:\\code\\micromambaenv\\envs\\venv39\\lib\\site-packages (from build>=0.7.0->kedro>=0.16->kedro-datasets~=1.0->kedro-datasets[spark.SparkDataset]~=1.0) (2.1.0)\n",
      "Requirement already satisfied: binaryornot>=0.4.4 in c:\\code\\micromambaenv\\envs\\venv39\\lib\\site-packages (from cookiecutter<3.0,>=2.1.1->kedro>=0.16->kedro-datasets~=1.0->kedro-datasets[spark.SparkDataset]~=1.0) (0.4.4)\n",
      "Requirement already satisfied: Jinja2<4.0.0,>=2.7 in c:\\code\\micromambaenv\\envs\\venv39\\lib\\site-packages (from cookiecutter<3.0,>=2.1.1->kedro>=0.16->kedro-datasets~=1.0->kedro-datasets[spark.SparkDataset]~=1.0) (3.1.4)\n",
      "Requirement already satisfied: python-slugify>=4.0.0 in c:\\code\\micromambaenv\\envs\\venv39\\lib\\site-packages (from cookiecutter<3.0,>=2.1.1->kedro>=0.16->kedro-datasets~=1.0->kedro-datasets[spark.SparkDataset]~=1.0) (8.0.4)\n",
      "Requirement already satisfied: arrow in c:\\code\\micromambaenv\\envs\\venv39\\lib\\site-packages (from cookiecutter<3.0,>=2.1.1->kedro>=0.16->kedro-datasets~=1.0->kedro-datasets[spark.SparkDataset]~=1.0) (1.3.0)\n",
      "Requirement already satisfied: gitdb<5,>=4.0.1 in c:\\code\\micromambaenv\\envs\\venv39\\lib\\site-packages (from gitpython>=3.0->kedro>=0.16->kedro-datasets~=1.0->kedro-datasets[spark.SparkDataset]~=1.0) (4.0.11)\n",
      "Requirement already satisfied: zipp>=0.5 in c:\\code\\micromambaenv\\envs\\venv39\\lib\\site-packages (from importlib-metadata<7.0,>=3.6->kedro>=0.16->kedro-datasets~=1.0->kedro-datasets[spark.SparkDataset]~=1.0) (3.21.0)\n",
      "Requirement already satisfied: antlr4-python3-runtime==4.9.* in c:\\code\\micromambaenv\\envs\\venv39\\lib\\site-packages (from omegaconf>=2.1.1->kedro>=0.16->kedro-datasets~=1.0->kedro-datasets[spark.SparkDataset]~=1.0) (4.9.3)\n",
      "Requirement already satisfied: pip>=22.2 in c:\\code\\micromambaenv\\envs\\venv39\\lib\\site-packages (from pip-tools>=6.5->kedro>=0.16->kedro-datasets~=1.0->kedro-datasets[spark.SparkDataset]~=1.0) (24.3.1)\n",
      "Requirement already satisfied: wheel in c:\\code\\micromambaenv\\envs\\venv39\\lib\\site-packages (from pip-tools>=6.5->kedro>=0.16->kedro-datasets~=1.0->kedro-datasets[spark.SparkDataset]~=1.0) (0.45.1)\n",
      "Requirement already satisfied: charset-normalizer<4,>=2 in c:\\code\\micromambaenv\\envs\\venv39\\lib\\site-packages (from requests>=2.7.0->hdfs<3.0,>=2.5.8->kedro-datasets[spark.SparkDataset]~=1.0) (3.4.0)\n",
      "Requirement already satisfied: idna<4,>=2.5 in c:\\code\\micromambaenv\\envs\\venv39\\lib\\site-packages (from requests>=2.7.0->hdfs<3.0,>=2.5.8->kedro-datasets[spark.SparkDataset]~=1.0) (3.10)\n",
      "Requirement already satisfied: certifi>=2017.4.17 in c:\\code\\micromambaenv\\envs\\venv39\\lib\\site-packages (from requests>=2.7.0->hdfs<3.0,>=2.5.8->kedro-datasets[spark.SparkDataset]~=1.0) (2024.8.30)\n",
      "Requirement already satisfied: markdown-it-py>=2.2.0 in c:\\code\\micromambaenv\\envs\\venv39\\lib\\site-packages (from rich<14.0,>=12.0->kedro>=0.16->kedro-datasets~=1.0->kedro-datasets[spark.SparkDataset]~=1.0) (3.0.0)\n",
      "Requirement already satisfied: pygments<3.0.0,>=2.13.0 in c:\\code\\micromambaenv\\envs\\venv39\\lib\\site-packages (from rich<14.0,>=12.0->kedro>=0.16->kedro-datasets~=1.0->kedro-datasets[spark.SparkDataset]~=1.0) (2.18.0)\n",
      "Requirement already satisfied: typing-extensions<5.0,>=4.0.0 in c:\\code\\micromambaenv\\envs\\venv39\\lib\\site-packages (from rich<14.0,>=12.0->kedro>=0.16->kedro-datasets~=1.0->kedro-datasets[spark.SparkDataset]~=1.0) (4.12.2)\n",
      "Requirement already satisfied: pytoolconfig>=1.2.2 in c:\\code\\micromambaenv\\envs\\venv39\\lib\\site-packages (from pytoolconfig[global]>=1.2.2->rope<2.0,>=0.21->kedro>=0.16->kedro-datasets~=1.0->kedro-datasets[spark.SparkDataset]~=1.0) (1.3.1)\n",
      "Requirement already satisfied: chardet>=3.0.2 in c:\\code\\micromambaenv\\envs\\venv39\\lib\\site-packages (from binaryornot>=0.4.4->cookiecutter<3.0,>=2.1.1->kedro>=0.16->kedro-datasets~=1.0->kedro-datasets[spark.SparkDataset]~=1.0) (5.2.0)\n",
      "Requirement already satisfied: smmap<6,>=3.0.1 in c:\\code\\micromambaenv\\envs\\venv39\\lib\\site-packages (from gitdb<5,>=4.0.1->gitpython>=3.0->kedro>=0.16->kedro-datasets~=1.0->kedro-datasets[spark.SparkDataset]~=1.0) (5.0.1)\n",
      "Requirement already satisfied: MarkupSafe>=2.0 in c:\\code\\micromambaenv\\envs\\venv39\\lib\\site-packages (from Jinja2<4.0.0,>=2.7->cookiecutter<3.0,>=2.1.1->kedro>=0.16->kedro-datasets~=1.0->kedro-datasets[spark.SparkDataset]~=1.0) (3.0.2)\n",
      "Requirement already satisfied: mdurl~=0.1 in c:\\code\\micromambaenv\\envs\\venv39\\lib\\site-packages (from markdown-it-py>=2.2.0->rich<14.0,>=12.0->kedro>=0.16->kedro-datasets~=1.0->kedro-datasets[spark.SparkDataset]~=1.0) (0.1.2)\n",
      "Requirement already satisfied: text-unidecode>=1.3 in c:\\code\\micromambaenv\\envs\\venv39\\lib\\site-packages (from python-slugify>=4.0.0->cookiecutter<3.0,>=2.1.1->kedro>=0.16->kedro-datasets~=1.0->kedro-datasets[spark.SparkDataset]~=1.0) (1.3)\n",
      "Requirement already satisfied: platformdirs>=3.11.0 in c:\\code\\micromambaenv\\envs\\venv39\\lib\\site-packages (from pytoolconfig[global]>=1.2.2->rope<2.0,>=0.21->kedro>=0.16->kedro-datasets~=1.0->kedro-datasets[spark.SparkDataset]~=1.0) (4.3.6)\n",
      "Requirement already satisfied: types-python-dateutil>=2.8.10 in c:\\code\\micromambaenv\\envs\\venv39\\lib\\site-packages (from arrow->cookiecutter<3.0,>=2.1.1->kedro>=0.16->kedro-datasets~=1.0->kedro-datasets[spark.SparkDataset]~=1.0) (2.9.0.20241003)\n",
      "Note: you may need to restart the kernel to use updated packages.\n"
     ]
    }
   ],
   "source": [
    "pip install \"kedro-datasets[spark.SparkDataset]~=1.0\""
   ]
  },
  {
   "cell_type": "code",
   "execution_count": 2,
   "id": "faadcae7-3e3b-4d1c-8c8e-0409b7aa97c3",
   "metadata": {},
   "outputs": [
    {
     "name": "stdout",
     "output_type": "stream",
     "text": [
      "env: HADOOP_HOME=\"E:\\hadoop-3.3.4\"\n"
     ]
    }
   ],
   "source": [
    "%env HADOOP_HOME=\"E:\\hadoop-3.3.4\""
   ]
  },
  {
   "cell_type": "code",
   "execution_count": 3,
   "id": "5cda527b-22d5-4114-a0db-9d5e82d3d70f",
   "metadata": {},
   "outputs": [
    {
     "data": {
      "text/html": [
       "<pre style=\"white-space:pre;overflow-x:auto;line-height:normal;font-family:Menlo,'DejaVu Sans Mono',consolas,'Courier New',monospace\"><span style=\"color: #7fbfbf; text-decoration-color: #7fbfbf\">[11/27/24 12:55:22] </span><span style=\"color: #000080; text-decoration-color: #000080\">INFO    </span> Resolved project path as: C:\\code\\kedro-pyspark-s3\\pyspark-starter.    <a href=\"file://C:\\code\\micromambaenv\\envs\\venv39\\lib\\site-packages\\kedro\\ipython\\__init__.py\" target=\"_blank\"><span style=\"color: #7f7f7f; text-decoration-color: #7f7f7f\">__init__.py</span></a><span style=\"color: #7f7f7f; text-decoration-color: #7f7f7f\">:</span><a href=\"file://C:\\code\\micromambaenv\\envs\\venv39\\lib\\site-packages\\kedro\\ipython\\__init__.py#139\" target=\"_blank\"><span style=\"color: #7f7f7f; text-decoration-color: #7f7f7f\">139</span></a>\n",
       "<span style=\"color: #7fbfbf; text-decoration-color: #7fbfbf\">                    </span>         To set a different path, run <span style=\"color: #008000; text-decoration-color: #008000\">'%reload_kedro &lt;project_root&gt;'</span>            <span style=\"color: #7f7f7f; text-decoration-color: #7f7f7f\">               </span>\n",
       "</pre>\n"
      ],
      "text/plain": [
       "\u001b[2;36m[11/27/24 12:55:22]\u001b[0m\u001b[2;36m \u001b[0m\u001b[34mINFO    \u001b[0m Resolved project path as: C:\\code\\kedro-pyspark-s3\\pyspark-starter.    \u001b]8;id=668086;file://C:\\code\\micromambaenv\\envs\\venv39\\lib\\site-packages\\kedro\\ipython\\__init__.py\u001b\\\u001b[2m__init__.py\u001b[0m\u001b]8;;\u001b\\\u001b[2m:\u001b[0m\u001b]8;id=134098;file://C:\\code\\micromambaenv\\envs\\venv39\\lib\\site-packages\\kedro\\ipython\\__init__.py#139\u001b\\\u001b[2m139\u001b[0m\u001b]8;;\u001b\\\n",
       "\u001b[2;36m                    \u001b[0m         To set a different path, run \u001b[32m'%reload_kedro \u001b[0m\u001b[32m<\u001b[0m\u001b[32mproject_root\u001b[0m\u001b[32m>\u001b[0m\u001b[32m'\u001b[0m            \u001b[2m               \u001b[0m\n"
      ]
     },
     "metadata": {},
     "output_type": "display_data"
    },
    {
     "data": {
      "text/html": [
       "<pre style=\"white-space:pre;overflow-x:auto;line-height:normal;font-family:Menlo,'DejaVu Sans Mono',consolas,'Courier New',monospace\"><span style=\"color: #7fbfbf; text-decoration-color: #7fbfbf\">[11/27/24 12:55:34] </span><span style=\"color: #000080; text-decoration-color: #000080\">INFO    </span> Kedro is sending anonymous usage data with the sole purpose of improving <a href=\"file://C:\\code\\micromambaenv\\envs\\venv39\\lib\\site-packages\\kedro_telemetry\\plugin.py\" target=\"_blank\"><span style=\"color: #7f7f7f; text-decoration-color: #7f7f7f\">plugin.py</span></a><span style=\"color: #7f7f7f; text-decoration-color: #7f7f7f\">:</span><a href=\"file://C:\\code\\micromambaenv\\envs\\venv39\\lib\\site-packages\\kedro_telemetry\\plugin.py#233\" target=\"_blank\"><span style=\"color: #7f7f7f; text-decoration-color: #7f7f7f\">233</span></a>\n",
       "<span style=\"color: #7fbfbf; text-decoration-color: #7fbfbf\">                    </span>         the product. No personal data or IP addresses are stored on our side. If <span style=\"color: #7f7f7f; text-decoration-color: #7f7f7f\">             </span>\n",
       "<span style=\"color: #7fbfbf; text-decoration-color: #7fbfbf\">                    </span>         you want to opt out, set the `KEDRO_DISABLE_TELEMETRY` or `DO_NOT_TRACK` <span style=\"color: #7f7f7f; text-decoration-color: #7f7f7f\">             </span>\n",
       "<span style=\"color: #7fbfbf; text-decoration-color: #7fbfbf\">                    </span>         environment variables, or create a `.telemetry` file in the current      <span style=\"color: #7f7f7f; text-decoration-color: #7f7f7f\">             </span>\n",
       "<span style=\"color: #7fbfbf; text-decoration-color: #7fbfbf\">                    </span>         working directory with the contents `consent: false`. Read more at       <span style=\"color: #7f7f7f; text-decoration-color: #7f7f7f\">             </span>\n",
       "<span style=\"color: #7fbfbf; text-decoration-color: #7fbfbf\">                    </span>         <span style=\"color: #0000ff; text-decoration-color: #0000ff; text-decoration: underline\">https://docs.kedro.org/en/stable/configuration/telemetry.html</span>            <span style=\"color: #7f7f7f; text-decoration-color: #7f7f7f\">             </span>\n",
       "</pre>\n"
      ],
      "text/plain": [
       "\u001b[2;36m[11/27/24 12:55:34]\u001b[0m\u001b[2;36m \u001b[0m\u001b[34mINFO    \u001b[0m Kedro is sending anonymous usage data with the sole purpose of improving \u001b]8;id=794611;file://C:\\code\\micromambaenv\\envs\\venv39\\lib\\site-packages\\kedro_telemetry\\plugin.py\u001b\\\u001b[2mplugin.py\u001b[0m\u001b]8;;\u001b\\\u001b[2m:\u001b[0m\u001b]8;id=26335;file://C:\\code\\micromambaenv\\envs\\venv39\\lib\\site-packages\\kedro_telemetry\\plugin.py#233\u001b\\\u001b[2m233\u001b[0m\u001b]8;;\u001b\\\n",
       "\u001b[2;36m                    \u001b[0m         the product. No personal data or IP addresses are stored on our side. If \u001b[2m             \u001b[0m\n",
       "\u001b[2;36m                    \u001b[0m         you want to opt out, set the `KEDRO_DISABLE_TELEMETRY` or `DO_NOT_TRACK` \u001b[2m             \u001b[0m\n",
       "\u001b[2;36m                    \u001b[0m         environment variables, or create a `.telemetry` file in the current      \u001b[2m             \u001b[0m\n",
       "\u001b[2;36m                    \u001b[0m         working directory with the contents `consent: false`. Read more at       \u001b[2m             \u001b[0m\n",
       "\u001b[2;36m                    \u001b[0m         \u001b[4;94mhttps://docs.kedro.org/en/stable/configuration/telemetry.html\u001b[0m            \u001b[2m             \u001b[0m\n"
      ]
     },
     "metadata": {},
     "output_type": "display_data"
    },
    {
     "data": {
      "text/html": [
       "<pre style=\"white-space:pre;overflow-x:auto;line-height:normal;font-family:Menlo,'DejaVu Sans Mono',consolas,'Courier New',monospace\"><span style=\"color: #7fbfbf; text-decoration-color: #7fbfbf\">[11/27/24 12:55:35] </span><span style=\"color: #000080; text-decoration-color: #000080\">INFO    </span> Kedro project pyspark-starter                                          <a href=\"file://C:\\code\\micromambaenv\\envs\\venv39\\lib\\site-packages\\kedro\\ipython\\__init__.py\" target=\"_blank\"><span style=\"color: #7f7f7f; text-decoration-color: #7f7f7f\">__init__.py</span></a><span style=\"color: #7f7f7f; text-decoration-color: #7f7f7f\">:</span><a href=\"file://C:\\code\\micromambaenv\\envs\\venv39\\lib\\site-packages\\kedro\\ipython\\__init__.py#108\" target=\"_blank\"><span style=\"color: #7f7f7f; text-decoration-color: #7f7f7f\">108</span></a>\n",
       "</pre>\n"
      ],
      "text/plain": [
       "\u001b[2;36m[11/27/24 12:55:35]\u001b[0m\u001b[2;36m \u001b[0m\u001b[34mINFO    \u001b[0m Kedro project pyspark-starter                                          \u001b]8;id=884209;file://C:\\code\\micromambaenv\\envs\\venv39\\lib\\site-packages\\kedro\\ipython\\__init__.py\u001b\\\u001b[2m__init__.py\u001b[0m\u001b]8;;\u001b\\\u001b[2m:\u001b[0m\u001b]8;id=791891;file://C:\\code\\micromambaenv\\envs\\venv39\\lib\\site-packages\\kedro\\ipython\\__init__.py#108\u001b\\\u001b[2m108\u001b[0m\u001b]8;;\u001b\\\n"
      ]
     },
     "metadata": {},
     "output_type": "display_data"
    },
    {
     "data": {
      "text/html": [
       "<pre style=\"white-space:pre;overflow-x:auto;line-height:normal;font-family:Menlo,'DejaVu Sans Mono',consolas,'Courier New',monospace\"><span style=\"color: #7fbfbf; text-decoration-color: #7fbfbf\">                    </span><span style=\"color: #000080; text-decoration-color: #000080\">INFO    </span> Defined global variable <span style=\"color: #008000; text-decoration-color: #008000\">'context'</span>, <span style=\"color: #008000; text-decoration-color: #008000\">'session'</span>, <span style=\"color: #008000; text-decoration-color: #008000\">'catalog'</span> and            <a href=\"file://C:\\code\\micromambaenv\\envs\\venv39\\lib\\site-packages\\kedro\\ipython\\__init__.py\" target=\"_blank\"><span style=\"color: #7f7f7f; text-decoration-color: #7f7f7f\">__init__.py</span></a><span style=\"color: #7f7f7f; text-decoration-color: #7f7f7f\">:</span><a href=\"file://C:\\code\\micromambaenv\\envs\\venv39\\lib\\site-packages\\kedro\\ipython\\__init__.py#109\" target=\"_blank\"><span style=\"color: #7f7f7f; text-decoration-color: #7f7f7f\">109</span></a>\n",
       "<span style=\"color: #7fbfbf; text-decoration-color: #7fbfbf\">                    </span>         <span style=\"color: #008000; text-decoration-color: #008000\">'pipelines'</span>                                                            <span style=\"color: #7f7f7f; text-decoration-color: #7f7f7f\">               </span>\n",
       "</pre>\n"
      ],
      "text/plain": [
       "\u001b[2;36m                   \u001b[0m\u001b[2;36m \u001b[0m\u001b[34mINFO    \u001b[0m Defined global variable \u001b[32m'context'\u001b[0m, \u001b[32m'session'\u001b[0m, \u001b[32m'catalog'\u001b[0m and            \u001b]8;id=282416;file://C:\\code\\micromambaenv\\envs\\venv39\\lib\\site-packages\\kedro\\ipython\\__init__.py\u001b\\\u001b[2m__init__.py\u001b[0m\u001b]8;;\u001b\\\u001b[2m:\u001b[0m\u001b]8;id=284070;file://C:\\code\\micromambaenv\\envs\\venv39\\lib\\site-packages\\kedro\\ipython\\__init__.py#109\u001b\\\u001b[2m109\u001b[0m\u001b]8;;\u001b\\\n",
       "\u001b[2;36m                    \u001b[0m         \u001b[32m'pipelines'\u001b[0m                                                            \u001b[2m               \u001b[0m\n"
      ]
     },
     "metadata": {},
     "output_type": "display_data"
    }
   ],
   "source": [
    "%load_ext kedro.ipython"
   ]
  },
  {
   "cell_type": "code",
   "execution_count": 4,
   "id": "bdcd7f48-dc81-432b-bd42-fa3609187557",
   "metadata": {},
   "outputs": [
    {
     "data": {
      "text/html": [
       "<pre style=\"white-space:pre;overflow-x:auto;line-height:normal;font-family:Menlo,'DejaVu Sans Mono',consolas,'Courier New',monospace\"><span style=\"color: #7fbfbf; text-decoration-color: #7fbfbf\">[11/27/24 12:55:38] </span><span style=\"color: #000080; text-decoration-color: #000080\">INFO    </span> Resolved project path as: C:\\code\\kedro-pyspark-s3\\pyspark-starter.    <a href=\"file://C:\\code\\micromambaenv\\envs\\venv39\\lib\\site-packages\\kedro\\ipython\\__init__.py\" target=\"_blank\"><span style=\"color: #7f7f7f; text-decoration-color: #7f7f7f\">__init__.py</span></a><span style=\"color: #7f7f7f; text-decoration-color: #7f7f7f\">:</span><a href=\"file://C:\\code\\micromambaenv\\envs\\venv39\\lib\\site-packages\\kedro\\ipython\\__init__.py#139\" target=\"_blank\"><span style=\"color: #7f7f7f; text-decoration-color: #7f7f7f\">139</span></a>\n",
       "<span style=\"color: #7fbfbf; text-decoration-color: #7fbfbf\">                    </span>         To set a different path, run <span style=\"color: #008000; text-decoration-color: #008000\">'%reload_kedro &lt;project_root&gt;'</span>            <span style=\"color: #7f7f7f; text-decoration-color: #7f7f7f\">               </span>\n",
       "</pre>\n"
      ],
      "text/plain": [
       "\u001b[2;36m[11/27/24 12:55:38]\u001b[0m\u001b[2;36m \u001b[0m\u001b[34mINFO    \u001b[0m Resolved project path as: C:\\code\\kedro-pyspark-s3\\pyspark-starter.    \u001b]8;id=761869;file://C:\\code\\micromambaenv\\envs\\venv39\\lib\\site-packages\\kedro\\ipython\\__init__.py\u001b\\\u001b[2m__init__.py\u001b[0m\u001b]8;;\u001b\\\u001b[2m:\u001b[0m\u001b]8;id=326205;file://C:\\code\\micromambaenv\\envs\\venv39\\lib\\site-packages\\kedro\\ipython\\__init__.py#139\u001b\\\u001b[2m139\u001b[0m\u001b]8;;\u001b\\\n",
       "\u001b[2;36m                    \u001b[0m         To set a different path, run \u001b[32m'%reload_kedro \u001b[0m\u001b[32m<\u001b[0m\u001b[32mproject_root\u001b[0m\u001b[32m>\u001b[0m\u001b[32m'\u001b[0m            \u001b[2m               \u001b[0m\n"
      ]
     },
     "metadata": {},
     "output_type": "display_data"
    },
    {
     "data": {
      "text/html": [
       "<pre style=\"white-space:pre;overflow-x:auto;line-height:normal;font-family:Menlo,'DejaVu Sans Mono',consolas,'Courier New',monospace\"><span style=\"color: #7fbfbf; text-decoration-color: #7fbfbf\">[11/27/24 12:55:40] </span><span style=\"color: #000080; text-decoration-color: #000080\">INFO    </span> Kedro is sending anonymous usage data with the sole purpose of improving <a href=\"file://C:\\code\\micromambaenv\\envs\\venv39\\lib\\site-packages\\kedro_telemetry\\plugin.py\" target=\"_blank\"><span style=\"color: #7f7f7f; text-decoration-color: #7f7f7f\">plugin.py</span></a><span style=\"color: #7f7f7f; text-decoration-color: #7f7f7f\">:</span><a href=\"file://C:\\code\\micromambaenv\\envs\\venv39\\lib\\site-packages\\kedro_telemetry\\plugin.py#233\" target=\"_blank\"><span style=\"color: #7f7f7f; text-decoration-color: #7f7f7f\">233</span></a>\n",
       "<span style=\"color: #7fbfbf; text-decoration-color: #7fbfbf\">                    </span>         the product. No personal data or IP addresses are stored on our side. If <span style=\"color: #7f7f7f; text-decoration-color: #7f7f7f\">             </span>\n",
       "<span style=\"color: #7fbfbf; text-decoration-color: #7fbfbf\">                    </span>         you want to opt out, set the `KEDRO_DISABLE_TELEMETRY` or `DO_NOT_TRACK` <span style=\"color: #7f7f7f; text-decoration-color: #7f7f7f\">             </span>\n",
       "<span style=\"color: #7fbfbf; text-decoration-color: #7fbfbf\">                    </span>         environment variables, or create a `.telemetry` file in the current      <span style=\"color: #7f7f7f; text-decoration-color: #7f7f7f\">             </span>\n",
       "<span style=\"color: #7fbfbf; text-decoration-color: #7fbfbf\">                    </span>         working directory with the contents `consent: false`. Read more at       <span style=\"color: #7f7f7f; text-decoration-color: #7f7f7f\">             </span>\n",
       "<span style=\"color: #7fbfbf; text-decoration-color: #7fbfbf\">                    </span>         <span style=\"color: #0000ff; text-decoration-color: #0000ff; text-decoration: underline\">https://docs.kedro.org/en/stable/configuration/telemetry.html</span>            <span style=\"color: #7f7f7f; text-decoration-color: #7f7f7f\">             </span>\n",
       "</pre>\n"
      ],
      "text/plain": [
       "\u001b[2;36m[11/27/24 12:55:40]\u001b[0m\u001b[2;36m \u001b[0m\u001b[34mINFO    \u001b[0m Kedro is sending anonymous usage data with the sole purpose of improving \u001b]8;id=674170;file://C:\\code\\micromambaenv\\envs\\venv39\\lib\\site-packages\\kedro_telemetry\\plugin.py\u001b\\\u001b[2mplugin.py\u001b[0m\u001b]8;;\u001b\\\u001b[2m:\u001b[0m\u001b]8;id=121625;file://C:\\code\\micromambaenv\\envs\\venv39\\lib\\site-packages\\kedro_telemetry\\plugin.py#233\u001b\\\u001b[2m233\u001b[0m\u001b]8;;\u001b\\\n",
       "\u001b[2;36m                    \u001b[0m         the product. No personal data or IP addresses are stored on our side. If \u001b[2m             \u001b[0m\n",
       "\u001b[2;36m                    \u001b[0m         you want to opt out, set the `KEDRO_DISABLE_TELEMETRY` or `DO_NOT_TRACK` \u001b[2m             \u001b[0m\n",
       "\u001b[2;36m                    \u001b[0m         environment variables, or create a `.telemetry` file in the current      \u001b[2m             \u001b[0m\n",
       "\u001b[2;36m                    \u001b[0m         working directory with the contents `consent: false`. Read more at       \u001b[2m             \u001b[0m\n",
       "\u001b[2;36m                    \u001b[0m         \u001b[4;94mhttps://docs.kedro.org/en/stable/configuration/telemetry.html\u001b[0m            \u001b[2m             \u001b[0m\n"
      ]
     },
     "metadata": {},
     "output_type": "display_data"
    },
    {
     "data": {
      "text/html": [
       "<pre style=\"white-space:pre;overflow-x:auto;line-height:normal;font-family:Menlo,'DejaVu Sans Mono',consolas,'Courier New',monospace\"><span style=\"color: #7fbfbf; text-decoration-color: #7fbfbf\">[11/27/24 12:55:41] </span><span style=\"color: #000080; text-decoration-color: #000080\">INFO    </span> Kedro project pyspark-starter                                          <a href=\"file://C:\\code\\micromambaenv\\envs\\venv39\\lib\\site-packages\\kedro\\ipython\\__init__.py\" target=\"_blank\"><span style=\"color: #7f7f7f; text-decoration-color: #7f7f7f\">__init__.py</span></a><span style=\"color: #7f7f7f; text-decoration-color: #7f7f7f\">:</span><a href=\"file://C:\\code\\micromambaenv\\envs\\venv39\\lib\\site-packages\\kedro\\ipython\\__init__.py#108\" target=\"_blank\"><span style=\"color: #7f7f7f; text-decoration-color: #7f7f7f\">108</span></a>\n",
       "</pre>\n"
      ],
      "text/plain": [
       "\u001b[2;36m[11/27/24 12:55:41]\u001b[0m\u001b[2;36m \u001b[0m\u001b[34mINFO    \u001b[0m Kedro project pyspark-starter                                          \u001b]8;id=878716;file://C:\\code\\micromambaenv\\envs\\venv39\\lib\\site-packages\\kedro\\ipython\\__init__.py\u001b\\\u001b[2m__init__.py\u001b[0m\u001b]8;;\u001b\\\u001b[2m:\u001b[0m\u001b]8;id=451566;file://C:\\code\\micromambaenv\\envs\\venv39\\lib\\site-packages\\kedro\\ipython\\__init__.py#108\u001b\\\u001b[2m108\u001b[0m\u001b]8;;\u001b\\\n"
      ]
     },
     "metadata": {},
     "output_type": "display_data"
    },
    {
     "data": {
      "text/html": [
       "<pre style=\"white-space:pre;overflow-x:auto;line-height:normal;font-family:Menlo,'DejaVu Sans Mono',consolas,'Courier New',monospace\"><span style=\"color: #7fbfbf; text-decoration-color: #7fbfbf\">                    </span><span style=\"color: #000080; text-decoration-color: #000080\">INFO    </span> Defined global variable <span style=\"color: #008000; text-decoration-color: #008000\">'context'</span>, <span style=\"color: #008000; text-decoration-color: #008000\">'session'</span>, <span style=\"color: #008000; text-decoration-color: #008000\">'catalog'</span> and            <a href=\"file://C:\\code\\micromambaenv\\envs\\venv39\\lib\\site-packages\\kedro\\ipython\\__init__.py\" target=\"_blank\"><span style=\"color: #7f7f7f; text-decoration-color: #7f7f7f\">__init__.py</span></a><span style=\"color: #7f7f7f; text-decoration-color: #7f7f7f\">:</span><a href=\"file://C:\\code\\micromambaenv\\envs\\venv39\\lib\\site-packages\\kedro\\ipython\\__init__.py#109\" target=\"_blank\"><span style=\"color: #7f7f7f; text-decoration-color: #7f7f7f\">109</span></a>\n",
       "<span style=\"color: #7fbfbf; text-decoration-color: #7fbfbf\">                    </span>         <span style=\"color: #008000; text-decoration-color: #008000\">'pipelines'</span>                                                            <span style=\"color: #7f7f7f; text-decoration-color: #7f7f7f\">               </span>\n",
       "</pre>\n"
      ],
      "text/plain": [
       "\u001b[2;36m                   \u001b[0m\u001b[2;36m \u001b[0m\u001b[34mINFO    \u001b[0m Defined global variable \u001b[32m'context'\u001b[0m, \u001b[32m'session'\u001b[0m, \u001b[32m'catalog'\u001b[0m and            \u001b]8;id=458726;file://C:\\code\\micromambaenv\\envs\\venv39\\lib\\site-packages\\kedro\\ipython\\__init__.py\u001b\\\u001b[2m__init__.py\u001b[0m\u001b]8;;\u001b\\\u001b[2m:\u001b[0m\u001b]8;id=270720;file://C:\\code\\micromambaenv\\envs\\venv39\\lib\\site-packages\\kedro\\ipython\\__init__.py#109\u001b\\\u001b[2m109\u001b[0m\u001b]8;;\u001b\\\n",
       "\u001b[2;36m                    \u001b[0m         \u001b[32m'pipelines'\u001b[0m                                                            \u001b[2m               \u001b[0m\n"
      ]
     },
     "metadata": {},
     "output_type": "display_data"
    }
   ],
   "source": [
    "%reload_kedro"
   ]
  },
  {
   "cell_type": "code",
   "execution_count": 5,
   "id": "fe642bc2-e5e2-4203-b0a3-c19c5ab0c746",
   "metadata": {},
   "outputs": [
    {
     "data": {
      "text/html": [
       "<pre style=\"white-space:pre;overflow-x:auto;line-height:normal;font-family:Menlo,'DejaVu Sans Mono',consolas,'Courier New',monospace\"></pre>\n"
      ],
      "text/plain": []
     },
     "metadata": {},
     "output_type": "display_data"
    },
    {
     "data": {
      "text/plain": [
       "\u001b[1m<\u001b[0m\u001b[1;95mkedro.io.data_catalog.DataCatalog\u001b[0m\u001b[39m object at \u001b[0m\u001b[1;36m0x00000282838E7F40\u001b[0m\u001b[1m>\u001b[0m"
      ]
     },
     "execution_count": 5,
     "metadata": {},
     "output_type": "execute_result"
    }
   ],
   "source": [
    "catalog"
   ]
  },
  {
   "cell_type": "code",
   "execution_count": 6,
   "id": "4590793b-909b-46ac-b700-b9f82dd3a385",
   "metadata": {},
   "outputs": [
    {
     "data": {
      "text/html": [
       "<pre style=\"white-space:pre;overflow-x:auto;line-height:normal;font-family:Menlo,'DejaVu Sans Mono',consolas,'Courier New',monospace\"><span style=\"color: #7fbfbf; text-decoration-color: #7fbfbf\">                    </span><span style=\"color: #000080; text-decoration-color: #000080\">INFO    </span> Loading data from <span style=\"color: #008000; text-decoration-color: #008000\">'companies'</span> <span style=\"font-weight: bold\">(</span>SparkDataset<span style=\"font-weight: bold\">)</span><span style=\"color: #808000; text-decoration-color: #808000\">...</span>                    <a href=\"file://C:\\code\\micromambaenv\\envs\\venv39\\lib\\site-packages\\kedro\\io\\data_catalog.py\" target=\"_blank\"><span style=\"color: #7f7f7f; text-decoration-color: #7f7f7f\">data_catalog.py</span></a><span style=\"color: #7f7f7f; text-decoration-color: #7f7f7f\">:</span><a href=\"file://C:\\code\\micromambaenv\\envs\\venv39\\lib\\site-packages\\kedro\\io\\data_catalog.py#502\" target=\"_blank\"><span style=\"color: #7f7f7f; text-decoration-color: #7f7f7f\">502</span></a>\n",
       "</pre>\n"
      ],
      "text/plain": [
       "\u001b[2;36m                   \u001b[0m\u001b[2;36m \u001b[0m\u001b[34mINFO    \u001b[0m Loading data from \u001b[32m'companies'\u001b[0m \u001b[1m(\u001b[0mSparkDataset\u001b[1m)\u001b[0m\u001b[33m...\u001b[0m                    \u001b]8;id=786124;file://C:\\code\\micromambaenv\\envs\\venv39\\lib\\site-packages\\kedro\\io\\data_catalog.py\u001b\\\u001b[2mdata_catalog.py\u001b[0m\u001b]8;;\u001b\\\u001b[2m:\u001b[0m\u001b]8;id=430258;file://C:\\code\\micromambaenv\\envs\\venv39\\lib\\site-packages\\kedro\\io\\data_catalog.py#502\u001b\\\u001b[2m502\u001b[0m\u001b]8;;\u001b\\\n"
      ]
     },
     "metadata": {},
     "output_type": "display_data"
    }
   ],
   "source": [
    "df = catalog.load(\"companies\")"
   ]
  },
  {
   "cell_type": "code",
   "execution_count": 7,
   "id": "ce902f2e-1844-4cb0-a85e-82d9cc5d343d",
   "metadata": {},
   "outputs": [
    {
     "name": "stdout",
     "output_type": "stream",
     "text": [
      "root\n",
      " |-- id: integer (nullable = true)\n",
      " |-- company_rating: string (nullable = true)\n",
      " |-- company_location: string (nullable = true)\n",
      " |-- total_fleet_count: double (nullable = true)\n",
      " |-- iata_approved: string (nullable = true)\n",
      "\n"
     ]
    }
   ],
   "source": [
    "df.printSchema()"
   ]
  },
  {
   "cell_type": "code",
   "execution_count": 8,
   "id": "6d4ff4b1-9bc8-492e-90f3-7ab843779fec",
   "metadata": {},
   "outputs": [
    {
     "name": "stdout",
     "output_type": "stream",
     "text": [
      "+-----+--------------+--------------------+-----------------+-------------+\n",
      "|   id|company_rating|    company_location|total_fleet_count|iata_approved|\n",
      "+-----+--------------+--------------------+-----------------+-------------+\n",
      "|35029|          100%|                Niue|              4.0|            f|\n",
      "|30292|           67%|            Anguilla|              6.0|            f|\n",
      "|19032|           67%|  Russian Federation|              4.0|            f|\n",
      "| 8238|           91%|            Barbados|             15.0|            t|\n",
      "|30342|          NULL|Sao Tome and Prin...|              2.0|            t|\n",
      "|32413|          100%|       Faroe Islands|              1.0|            f|\n",
      "|35620|           90%|          Micronesia|              3.0|            f|\n",
      "|23820|          NULL|              Rwanda|              1.0|            t|\n",
      "|46528|          100%|          Uzbekistan|              3.0|            t|\n",
      "|11875|          100%|          Micronesia|              2.0|            t|\n",
      "|21120|          100%|            Kiribati|              2.0|            t|\n",
      "|10864|          100%|           Nicaragua|              2.0|            t|\n",
      "| 6027|           82%|   Wallis and Futuna|              2.0|            f|\n",
      "|14122|          100%|               Malta|              1.0|            t|\n",
      "|47761|          100%|                Niue|              2.0|            f|\n",
      "|33827|          100%|      United Kingdom|              1.0|            f|\n",
      "|13336|          NULL|               Malta|              1.0|            f|\n",
      "|46548|          NULL|             Estonia|              1.0|            f|\n",
      "|26648|          100%|                Niue|              2.0|            t|\n",
      "|26648|          100%|                Niue|              2.0|            t|\n",
      "+-----+--------------+--------------------+-----------------+-------------+\n",
      "only showing top 20 rows\n",
      "\n"
     ]
    }
   ],
   "source": [
    "df.show()"
   ]
  },
  {
   "cell_type": "code",
   "execution_count": 12,
   "id": "4a4f8ba7-4d84-497b-a01d-3a0b48edac63",
   "metadata": {},
   "outputs": [
    {
     "name": "stdout",
     "output_type": "stream",
     "text": [
      "+-------------+\n",
      "|iata_approved|\n",
      "+-------------+\n",
      "|            f|\n",
      "|            t|\n",
      "|         NULL|\n",
      "+-------------+\n",
      "\n"
     ]
    }
   ],
   "source": [
    "df2 = df.select(\"iata_approved\").distinct()\n",
    "df2.show()"
   ]
  },
  {
   "cell_type": "code",
   "execution_count": 10,
   "id": "d79802c2-31f6-47ef-a753-fa5aa1b426c9",
   "metadata": {},
   "outputs": [
    {
     "name": "stdout",
     "output_type": "stream",
     "text": [
      "root\n",
      " |-- id: integer (nullable = true)\n",
      " |-- company_rating: string (nullable = true)\n",
      " |-- company_location: string (nullable = true)\n",
      " |-- total_fleet_count: double (nullable = true)\n",
      " |-- iata_approved: boolean (nullable = false)\n",
      "\n"
     ]
    }
   ],
   "source": [
    "from pyspark.sql.functions import when\n",
    "df1 = df.withColumn(\"iata_approved\", when(df.iata_approved == 't', True).otherwise(False))\n",
    "\n",
    "df1.printSchema()"
   ]
  },
  {
   "cell_type": "code",
   "execution_count": 11,
   "id": "6d313d85-c7ea-4455-9d0e-2276f6368200",
   "metadata": {},
   "outputs": [
    {
     "name": "stdout",
     "output_type": "stream",
     "text": [
      "+-----+--------------+---------------------+-----------------+-------------+\n",
      "|id   |company_rating|company_location     |total_fleet_count|iata_approved|\n",
      "+-----+--------------+---------------------+-----------------+-------------+\n",
      "|35029|100%          |Niue                 |4.0              |false        |\n",
      "|30292|67%           |Anguilla             |6.0              |false        |\n",
      "|19032|67%           |Russian Federation   |4.0              |false        |\n",
      "|8238 |91%           |Barbados             |15.0             |true         |\n",
      "|30342|NULL          |Sao Tome and Principe|2.0              |true         |\n",
      "|32413|100%          |Faroe Islands        |1.0              |false        |\n",
      "|35620|90%           |Micronesia           |3.0              |false        |\n",
      "|23820|NULL          |Rwanda               |1.0              |true         |\n",
      "|46528|100%          |Uzbekistan           |3.0              |true         |\n",
      "|11875|100%          |Micronesia           |2.0              |true         |\n",
      "|21120|100%          |Kiribati             |2.0              |true         |\n",
      "|10864|100%          |Nicaragua            |2.0              |true         |\n",
      "|6027 |82%           |Wallis and Futuna    |2.0              |false        |\n",
      "|14122|100%          |Malta                |1.0              |true         |\n",
      "|47761|100%          |Niue                 |2.0              |false        |\n",
      "|33827|100%          |United Kingdom       |1.0              |false        |\n",
      "|13336|NULL          |Malta                |1.0              |false        |\n",
      "|46548|NULL          |Estonia              |1.0              |false        |\n",
      "|26648|100%          |Niue                 |2.0              |true         |\n",
      "|26648|100%          |Niue                 |2.0              |true         |\n",
      "+-----+--------------+---------------------+-----------------+-------------+\n",
      "only showing top 20 rows\n",
      "\n"
     ]
    }
   ],
   "source": [
    "df1.show(truncate=False)"
   ]
  },
  {
   "cell_type": "code",
   "execution_count": null,
   "id": "a041047d-8b23-403a-afb3-8d6a71f63da3",
   "metadata": {},
   "outputs": [],
   "source": []
  }
 ],
 "metadata": {
  "kernelspec": {
   "display_name": "Python 3 (ipykernel)",
   "language": "python",
   "name": "python3"
  },
  "language_info": {
   "codemirror_mode": {
    "name": "ipython",
    "version": 3
   },
   "file_extension": ".py",
   "mimetype": "text/x-python",
   "name": "python",
   "nbconvert_exporter": "python",
   "pygments_lexer": "ipython3",
   "version": "3.9.20"
  }
 },
 "nbformat": 4,
 "nbformat_minor": 5
}
